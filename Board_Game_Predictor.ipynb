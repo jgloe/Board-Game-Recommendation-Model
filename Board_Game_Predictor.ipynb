{
 "cells": [
  {
   "cell_type": "code",
   "execution_count": 1844,
   "metadata": {},
   "outputs": [],
   "source": [
    "import numpy as np\n",
    "import pandas as pd\n",
    "from numpy import dot\n",
    "from numpy.linalg import norm \n",
    "from sklearn.preprocessing import StandardScaler\n",
    "from sklearn.cluster import KMeans\n",
    "import matplotlib.pyplot as plt\n",
    "from collections import Counter\n",
    "import seaborn as sns"
   ]
  },
  {
   "attachments": {},
   "cell_type": "markdown",
   "metadata": {},
   "source": [
    "# Cleaning the data"
   ]
  },
  {
   "cell_type": "code",
   "execution_count": 1845,
   "metadata": {},
   "outputs": [
    {
     "data": {
      "text/html": [
       "<div>\n",
       "<style scoped>\n",
       "    .dataframe tbody tr th:only-of-type {\n",
       "        vertical-align: middle;\n",
       "    }\n",
       "\n",
       "    .dataframe tbody tr th {\n",
       "        vertical-align: top;\n",
       "    }\n",
       "\n",
       "    .dataframe thead th {\n",
       "        text-align: right;\n",
       "    }\n",
       "</style>\n",
       "<table border=\"1\" class=\"dataframe\">\n",
       "  <thead>\n",
       "    <tr style=\"text-align: right;\">\n",
       "      <th></th>\n",
       "      <th>ID</th>\n",
       "      <th>Name</th>\n",
       "      <th>Year Published</th>\n",
       "      <th>Min Players</th>\n",
       "      <th>Max Players</th>\n",
       "      <th>Play Time</th>\n",
       "      <th>Min Age</th>\n",
       "      <th>Users Rated</th>\n",
       "      <th>Rating Average</th>\n",
       "      <th>BGG Rank</th>\n",
       "      <th>Complexity Average</th>\n",
       "      <th>Owned Users</th>\n",
       "      <th>Mechanics</th>\n",
       "      <th>Domains</th>\n",
       "    </tr>\n",
       "  </thead>\n",
       "  <tbody>\n",
       "    <tr>\n",
       "      <th>0</th>\n",
       "      <td>174430.0</td>\n",
       "      <td>Gloomhaven</td>\n",
       "      <td>2017.0</td>\n",
       "      <td>1</td>\n",
       "      <td>4</td>\n",
       "      <td>120</td>\n",
       "      <td>14</td>\n",
       "      <td>42055</td>\n",
       "      <td>879</td>\n",
       "      <td>1</td>\n",
       "      <td>386</td>\n",
       "      <td>68323.0</td>\n",
       "      <td>Action Queue, Action Retrieval, Campaign / Bat...</td>\n",
       "      <td>Strategy Games, Thematic Games</td>\n",
       "    </tr>\n",
       "    <tr>\n",
       "      <th>1</th>\n",
       "      <td>161936.0</td>\n",
       "      <td>Pandemic Legacy: Season 1</td>\n",
       "      <td>2015.0</td>\n",
       "      <td>2</td>\n",
       "      <td>4</td>\n",
       "      <td>60</td>\n",
       "      <td>13</td>\n",
       "      <td>41643</td>\n",
       "      <td>861</td>\n",
       "      <td>2</td>\n",
       "      <td>284</td>\n",
       "      <td>65294.0</td>\n",
       "      <td>Action Points, Cooperative Game, Hand Manageme...</td>\n",
       "      <td>Strategy Games, Thematic Games</td>\n",
       "    </tr>\n",
       "    <tr>\n",
       "      <th>2</th>\n",
       "      <td>224517.0</td>\n",
       "      <td>Brass: Birmingham</td>\n",
       "      <td>2018.0</td>\n",
       "      <td>2</td>\n",
       "      <td>4</td>\n",
       "      <td>120</td>\n",
       "      <td>14</td>\n",
       "      <td>19217</td>\n",
       "      <td>866</td>\n",
       "      <td>3</td>\n",
       "      <td>391</td>\n",
       "      <td>28785.0</td>\n",
       "      <td>Hand Management, Income, Loans, Market, Networ...</td>\n",
       "      <td>Strategy Games</td>\n",
       "    </tr>\n",
       "    <tr>\n",
       "      <th>3</th>\n",
       "      <td>167791.0</td>\n",
       "      <td>Terraforming Mars</td>\n",
       "      <td>2016.0</td>\n",
       "      <td>1</td>\n",
       "      <td>5</td>\n",
       "      <td>120</td>\n",
       "      <td>12</td>\n",
       "      <td>64864</td>\n",
       "      <td>843</td>\n",
       "      <td>4</td>\n",
       "      <td>324</td>\n",
       "      <td>87099.0</td>\n",
       "      <td>Card Drafting, Drafting, End Game Bonuses, Han...</td>\n",
       "      <td>Strategy Games</td>\n",
       "    </tr>\n",
       "    <tr>\n",
       "      <th>4</th>\n",
       "      <td>233078.0</td>\n",
       "      <td>Twilight Imperium: Fourth Edition</td>\n",
       "      <td>2017.0</td>\n",
       "      <td>3</td>\n",
       "      <td>6</td>\n",
       "      <td>480</td>\n",
       "      <td>14</td>\n",
       "      <td>13468</td>\n",
       "      <td>870</td>\n",
       "      <td>5</td>\n",
       "      <td>422</td>\n",
       "      <td>16831.0</td>\n",
       "      <td>Action Drafting, Area Majority / Influence, Ar...</td>\n",
       "      <td>Strategy Games, Thematic Games</td>\n",
       "    </tr>\n",
       "  </tbody>\n",
       "</table>\n",
       "</div>"
      ],
      "text/plain": [
       "         ID                               Name  Year Published  Min Players  \\\n",
       "0  174430.0                         Gloomhaven          2017.0            1   \n",
       "1  161936.0          Pandemic Legacy: Season 1          2015.0            2   \n",
       "2  224517.0                  Brass: Birmingham          2018.0            2   \n",
       "3  167791.0                  Terraforming Mars          2016.0            1   \n",
       "4  233078.0  Twilight Imperium: Fourth Edition          2017.0            3   \n",
       "\n",
       "   Max Players  Play Time  Min Age  Users Rated  Rating Average  BGG Rank  \\\n",
       "0            4        120       14        42055             879         1   \n",
       "1            4         60       13        41643             861         2   \n",
       "2            4        120       14        19217             866         3   \n",
       "3            5        120       12        64864             843         4   \n",
       "4            6        480       14        13468             870         5   \n",
       "\n",
       "   Complexity Average  Owned Users  \\\n",
       "0                 386      68323.0   \n",
       "1                 284      65294.0   \n",
       "2                 391      28785.0   \n",
       "3                 324      87099.0   \n",
       "4                 422      16831.0   \n",
       "\n",
       "                                           Mechanics  \\\n",
       "0  Action Queue, Action Retrieval, Campaign / Bat...   \n",
       "1  Action Points, Cooperative Game, Hand Manageme...   \n",
       "2  Hand Management, Income, Loans, Market, Networ...   \n",
       "3  Card Drafting, Drafting, End Game Bonuses, Han...   \n",
       "4  Action Drafting, Area Majority / Influence, Ar...   \n",
       "\n",
       "                          Domains  \n",
       "0  Strategy Games, Thematic Games  \n",
       "1  Strategy Games, Thematic Games  \n",
       "2                  Strategy Games  \n",
       "3                  Strategy Games  \n",
       "4  Strategy Games, Thematic Games  "
      ]
     },
     "execution_count": 1845,
     "metadata": {},
     "output_type": "execute_result"
    }
   ],
   "source": [
    "bgg = pd.read_csv('bgg_dataset_processed.csv', encoding='utf8')\n",
    "bgg.head()"
   ]
  },
  {
   "cell_type": "code",
   "execution_count": 1846,
   "metadata": {},
   "outputs": [
    {
     "name": "stdout",
     "output_type": "stream",
     "text": [
      "<class 'pandas.core.frame.DataFrame'>\n",
      "RangeIndex: 20343 entries, 0 to 20342\n",
      "Data columns (total 14 columns):\n",
      " #   Column              Non-Null Count  Dtype  \n",
      "---  ------              --------------  -----  \n",
      " 0   ID                  20327 non-null  float64\n",
      " 1   Name                20343 non-null  object \n",
      " 2   Year Published      20342 non-null  float64\n",
      " 3   Min Players         20343 non-null  int64  \n",
      " 4   Max Players         20343 non-null  int64  \n",
      " 5   Play Time           20343 non-null  int64  \n",
      " 6   Min Age             20343 non-null  int64  \n",
      " 7   Users Rated         20343 non-null  int64  \n",
      " 8   Rating Average      20343 non-null  int64  \n",
      " 9   BGG Rank            20343 non-null  int64  \n",
      " 10  Complexity Average  20343 non-null  int64  \n",
      " 11  Owned Users         20320 non-null  float64\n",
      " 12  Mechanics           18744 non-null  object \n",
      " 13  Domains             10184 non-null  object \n",
      "dtypes: float64(3), int64(8), object(3)\n",
      "memory usage: 2.2+ MB\n"
     ]
    }
   ],
   "source": [
    "bgg.info()"
   ]
  },
  {
   "attachments": {},
   "cell_type": "markdown",
   "metadata": {},
   "source": [
    "There is one game which does not have a year listed. This game is 'Hus'. A quick Google search leads me to believe this game came out in ~1855, so I will add this in."
   ]
  },
  {
   "cell_type": "code",
   "execution_count": 1847,
   "metadata": {},
   "outputs": [
    {
     "data": {
      "text/html": [
       "<div>\n",
       "<style scoped>\n",
       "    .dataframe tbody tr th:only-of-type {\n",
       "        vertical-align: middle;\n",
       "    }\n",
       "\n",
       "    .dataframe tbody tr th {\n",
       "        vertical-align: top;\n",
       "    }\n",
       "\n",
       "    .dataframe thead th {\n",
       "        text-align: right;\n",
       "    }\n",
       "</style>\n",
       "<table border=\"1\" class=\"dataframe\">\n",
       "  <thead>\n",
       "    <tr style=\"text-align: right;\">\n",
       "      <th></th>\n",
       "      <th>ID</th>\n",
       "      <th>Name</th>\n",
       "      <th>Year Published</th>\n",
       "      <th>Min Players</th>\n",
       "      <th>Max Players</th>\n",
       "      <th>Play Time</th>\n",
       "      <th>Min Age</th>\n",
       "      <th>Users Rated</th>\n",
       "      <th>Rating Average</th>\n",
       "      <th>BGG Rank</th>\n",
       "      <th>Complexity Average</th>\n",
       "      <th>Owned Users</th>\n",
       "      <th>Mechanics</th>\n",
       "      <th>Domains</th>\n",
       "    </tr>\n",
       "  </thead>\n",
       "  <tbody>\n",
       "    <tr>\n",
       "      <th>13984</th>\n",
       "      <td>NaN</td>\n",
       "      <td>Hus</td>\n",
       "      <td>NaN</td>\n",
       "      <td>2</td>\n",
       "      <td>2</td>\n",
       "      <td>40</td>\n",
       "      <td>0</td>\n",
       "      <td>38</td>\n",
       "      <td>628</td>\n",
       "      <td>13986</td>\n",
       "      <td>2</td>\n",
       "      <td>NaN</td>\n",
       "      <td>NaN</td>\n",
       "      <td>NaN</td>\n",
       "    </tr>\n",
       "  </tbody>\n",
       "</table>\n",
       "</div>"
      ],
      "text/plain": [
       "       ID Name  Year Published  Min Players  Max Players  Play Time  Min Age  \\\n",
       "13984 NaN  Hus             NaN            2            2         40        0   \n",
       "\n",
       "       Users Rated  Rating Average  BGG Rank  Complexity Average  Owned Users  \\\n",
       "13984           38             628     13986                   2          NaN   \n",
       "\n",
       "      Mechanics Domains  \n",
       "13984       NaN     NaN  "
      ]
     },
     "execution_count": 1847,
     "metadata": {},
     "output_type": "execute_result"
    }
   ],
   "source": [
    "bgg.loc[bgg['Name'] == 'Hus']"
   ]
  },
  {
   "cell_type": "code",
   "execution_count": 1848,
   "metadata": {},
   "outputs": [],
   "source": [
    "bgg.at[13984, 'Year Published'] = 1855"
   ]
  },
  {
   "attachments": {},
   "cell_type": "markdown",
   "metadata": {},
   "source": [
    "Let us get rid of the entries which do not have any Owned Users"
   ]
  },
  {
   "cell_type": "code",
   "execution_count": 1849,
   "metadata": {},
   "outputs": [
    {
     "data": {
      "text/html": [
       "<div>\n",
       "<style scoped>\n",
       "    .dataframe tbody tr th:only-of-type {\n",
       "        vertical-align: middle;\n",
       "    }\n",
       "\n",
       "    .dataframe tbody tr th {\n",
       "        vertical-align: top;\n",
       "    }\n",
       "\n",
       "    .dataframe thead th {\n",
       "        text-align: right;\n",
       "    }\n",
       "</style>\n",
       "<table border=\"1\" class=\"dataframe\">\n",
       "  <thead>\n",
       "    <tr style=\"text-align: right;\">\n",
       "      <th></th>\n",
       "      <th>ID</th>\n",
       "      <th>Name</th>\n",
       "      <th>Year Published</th>\n",
       "      <th>Min Players</th>\n",
       "      <th>Max Players</th>\n",
       "      <th>Play Time</th>\n",
       "      <th>Min Age</th>\n",
       "      <th>Users Rated</th>\n",
       "      <th>Rating Average</th>\n",
       "      <th>BGG Rank</th>\n",
       "      <th>Complexity Average</th>\n",
       "      <th>Owned Users</th>\n",
       "      <th>Mechanics</th>\n",
       "      <th>Domains</th>\n",
       "    </tr>\n",
       "  </thead>\n",
       "  <tbody>\n",
       "    <tr>\n",
       "      <th>2828</th>\n",
       "      <td>202755.0</td>\n",
       "      <td>Guildhall Fantasy: Fellowship</td>\n",
       "      <td>2016.0</td>\n",
       "      <td>2</td>\n",
       "      <td>4</td>\n",
       "      <td>45</td>\n",
       "      <td>10</td>\n",
       "      <td>565</td>\n",
       "      <td>713</td>\n",
       "      <td>2830</td>\n",
       "      <td>200</td>\n",
       "      <td>NaN</td>\n",
       "      <td>Hand Management, Take That, Set Collection</td>\n",
       "      <td>NaN</td>\n",
       "    </tr>\n",
       "    <tr>\n",
       "      <th>3590</th>\n",
       "      <td>196305.0</td>\n",
       "      <td>Guildhall Fantasy: Alliance</td>\n",
       "      <td>2016.0</td>\n",
       "      <td>2</td>\n",
       "      <td>4</td>\n",
       "      <td>45</td>\n",
       "      <td>10</td>\n",
       "      <td>360</td>\n",
       "      <td>720</td>\n",
       "      <td>3592</td>\n",
       "      <td>214</td>\n",
       "      <td>NaN</td>\n",
       "      <td>Hand Management, Set Collection, Take That</td>\n",
       "      <td>NaN</td>\n",
       "    </tr>\n",
       "    <tr>\n",
       "      <th>3739</th>\n",
       "      <td>196306.0</td>\n",
       "      <td>Guildhall Fantasy: Coalition</td>\n",
       "      <td>2016.0</td>\n",
       "      <td>2</td>\n",
       "      <td>4</td>\n",
       "      <td>45</td>\n",
       "      <td>10</td>\n",
       "      <td>336</td>\n",
       "      <td>719</td>\n",
       "      <td>3741</td>\n",
       "      <td>213</td>\n",
       "      <td>NaN</td>\n",
       "      <td>Hand Management, Set Collection, Take That</td>\n",
       "      <td>NaN</td>\n",
       "    </tr>\n",
       "  </tbody>\n",
       "</table>\n",
       "</div>"
      ],
      "text/plain": [
       "            ID                           Name  Year Published  Min Players  \\\n",
       "2828  202755.0  Guildhall Fantasy: Fellowship          2016.0            2   \n",
       "3590  196305.0    Guildhall Fantasy: Alliance          2016.0            2   \n",
       "3739  196306.0   Guildhall Fantasy: Coalition          2016.0            2   \n",
       "\n",
       "      Max Players  Play Time  Min Age  Users Rated  Rating Average  BGG Rank  \\\n",
       "2828            4         45       10          565             713      2830   \n",
       "3590            4         45       10          360             720      3592   \n",
       "3739            4         45       10          336             719      3741   \n",
       "\n",
       "      Complexity Average  Owned Users  \\\n",
       "2828                 200          NaN   \n",
       "3590                 214          NaN   \n",
       "3739                 213          NaN   \n",
       "\n",
       "                                       Mechanics Domains  \n",
       "2828  Hand Management, Take That, Set Collection     NaN  \n",
       "3590  Hand Management, Set Collection, Take That     NaN  \n",
       "3739  Hand Management, Set Collection, Take That     NaN  "
      ]
     },
     "execution_count": 1849,
     "metadata": {},
     "output_type": "execute_result"
    }
   ],
   "source": [
    "nanOU = np.where(bgg['Owned Users'].isna())\n",
    "bgg.iloc[nanOU][:3]"
   ]
  },
  {
   "cell_type": "code",
   "execution_count": 1850,
   "metadata": {},
   "outputs": [],
   "source": [
    "bgg = bgg[bgg['Owned Users'].notna()]"
   ]
  },
  {
   "attachments": {},
   "cell_type": "markdown",
   "metadata": {},
   "source": [
    "Fill empty Mechanics cells with 'Not Mentioned' and empty Domains cells with 'Basic'"
   ]
  },
  {
   "cell_type": "code",
   "execution_count": 1851,
   "metadata": {},
   "outputs": [
    {
     "data": {
      "text/html": [
       "<div>\n",
       "<style scoped>\n",
       "    .dataframe tbody tr th:only-of-type {\n",
       "        vertical-align: middle;\n",
       "    }\n",
       "\n",
       "    .dataframe tbody tr th {\n",
       "        vertical-align: top;\n",
       "    }\n",
       "\n",
       "    .dataframe thead th {\n",
       "        text-align: right;\n",
       "    }\n",
       "</style>\n",
       "<table border=\"1\" class=\"dataframe\">\n",
       "  <thead>\n",
       "    <tr style=\"text-align: right;\">\n",
       "      <th></th>\n",
       "      <th>ID</th>\n",
       "      <th>Name</th>\n",
       "      <th>Year Published</th>\n",
       "      <th>Min Players</th>\n",
       "      <th>Max Players</th>\n",
       "      <th>Play Time</th>\n",
       "      <th>Min Age</th>\n",
       "      <th>Users Rated</th>\n",
       "      <th>Rating Average</th>\n",
       "      <th>BGG Rank</th>\n",
       "      <th>Complexity Average</th>\n",
       "      <th>Owned Users</th>\n",
       "      <th>Mechanics</th>\n",
       "      <th>Domains</th>\n",
       "    </tr>\n",
       "  </thead>\n",
       "  <tbody>\n",
       "    <tr>\n",
       "      <th>1059</th>\n",
       "      <td>85256.0</td>\n",
       "      <td>Timeline: Inventions</td>\n",
       "      <td>2010.0</td>\n",
       "      <td>2</td>\n",
       "      <td>8</td>\n",
       "      <td>15</td>\n",
       "      <td>8</td>\n",
       "      <td>7257</td>\n",
       "      <td>671</td>\n",
       "      <td>1060</td>\n",
       "      <td>111</td>\n",
       "      <td>12448.0</td>\n",
       "      <td>NaN</td>\n",
       "      <td>Family Games</td>\n",
       "    </tr>\n",
       "    <tr>\n",
       "      <th>1150</th>\n",
       "      <td>113401.0</td>\n",
       "      <td>Timeline: Events</td>\n",
       "      <td>2011.0</td>\n",
       "      <td>2</td>\n",
       "      <td>8</td>\n",
       "      <td>15</td>\n",
       "      <td>8</td>\n",
       "      <td>4208</td>\n",
       "      <td>678</td>\n",
       "      <td>1151</td>\n",
       "      <td>110</td>\n",
       "      <td>7924.0</td>\n",
       "      <td>NaN</td>\n",
       "      <td>Family Games, Party Games</td>\n",
       "    </tr>\n",
       "    <tr>\n",
       "      <th>1216</th>\n",
       "      <td>131325.0</td>\n",
       "      <td>Timeline: Diversity</td>\n",
       "      <td>2012.0</td>\n",
       "      <td>2</td>\n",
       "      <td>8</td>\n",
       "      <td>15</td>\n",
       "      <td>8</td>\n",
       "      <td>3790</td>\n",
       "      <td>679</td>\n",
       "      <td>1217</td>\n",
       "      <td>107</td>\n",
       "      <td>7589.0</td>\n",
       "      <td>NaN</td>\n",
       "      <td>Family Games, Party Games</td>\n",
       "    </tr>\n",
       "  </tbody>\n",
       "</table>\n",
       "</div>"
      ],
      "text/plain": [
       "            ID                  Name  Year Published  Min Players  \\\n",
       "1059   85256.0  Timeline: Inventions          2010.0            2   \n",
       "1150  113401.0      Timeline: Events          2011.0            2   \n",
       "1216  131325.0   Timeline: Diversity          2012.0            2   \n",
       "\n",
       "      Max Players  Play Time  Min Age  Users Rated  Rating Average  BGG Rank  \\\n",
       "1059            8         15        8         7257             671      1060   \n",
       "1150            8         15        8         4208             678      1151   \n",
       "1216            8         15        8         3790             679      1217   \n",
       "\n",
       "      Complexity Average  Owned Users Mechanics                    Domains  \n",
       "1059                 111      12448.0       NaN               Family Games  \n",
       "1150                 110       7924.0       NaN  Family Games, Party Games  \n",
       "1216                 107       7589.0       NaN  Family Games, Party Games  "
      ]
     },
     "execution_count": 1851,
     "metadata": {},
     "output_type": "execute_result"
    }
   ],
   "source": [
    "nanM = np.where(bgg['Mechanics'].isna())\n",
    "bgg.iloc[nanM][:3]"
   ]
  },
  {
   "cell_type": "code",
   "execution_count": 1852,
   "metadata": {},
   "outputs": [],
   "source": [
    "bgg[\"Mechanics\"] = bgg[\"Mechanics\"].fillna(\"Not Mentioned\")\n",
    "bgg[\"Domains\"] = bgg[\"Domains\"].fillna(\"Basic\")"
   ]
  },
  {
   "attachments": {},
   "cell_type": "markdown",
   "metadata": {},
   "source": [
    "Clean up some of the issues in the Domains column"
   ]
  },
  {
   "cell_type": "code",
   "execution_count": 1853,
   "metadata": {},
   "outputs": [],
   "source": [
    "bgg['Domains']=bgg['Domains'].apply(lambda x: x.replace(' Games', ''))\n",
    "bgg['Domains']=bgg['Domains'].apply(lambda x: x.replace('games', ''))\n",
    "bgg['Domains']=bgg['Domains'].apply(lambda x: x.replace(',', ''))"
   ]
  },
  {
   "attachments": {},
   "cell_type": "markdown",
   "metadata": {},
   "source": [
    "Find unique Domains"
   ]
  },
  {
   "cell_type": "code",
   "execution_count": 1854,
   "metadata": {},
   "outputs": [
    {
     "name": "stdout",
     "output_type": "stream",
     "text": [
      "['War', 'Customizable', 'Abstract', 'Basic', 'Strategy', 'Family', 'Thematic', 'Party', \"Children's\"]\n"
     ]
    }
   ],
   "source": [
    "unique_Domains = []\n",
    "for i in range(len(bgg)):\n",
    "    unique_Domains = unique_Domains + bgg.iat[i, 13].split()\n",
    "    unique_Domains = list(set(unique_Domains))\n",
    "print(unique_Domains)"
   ]
  },
  {
   "attachments": {},
   "cell_type": "markdown",
   "metadata": {},
   "source": [
    "Find unique Mechanics"
   ]
  },
  {
   "cell_type": "code",
   "execution_count": 1855,
   "metadata": {},
   "outputs": [
    {
     "name": "stdout",
     "output_type": "stream",
     "text": [
      "['Line Drawing', 'Three Dimensional Movement', 'Square Grid', 'Re-rolling and Locking', 'Pattern Recognition', 'Negotiation', 'Minimap Resolution', 'Once-Per-Game Abilities', 'Grid Coverage', 'Turn Order: Role Order', 'Order Counters', 'Action/Event', 'Map Reduction', 'Not Mentioned', 'I Cut You Choose', 'Dice Rolling', 'Pattern Movement', 'Acting', 'Slide/Push', 'Communication Limits', 'Roll / Spin and Move', 'Player Judge', 'Deck Bag and Pool Building', 'Push Your Luck', 'Different Dice Movement', 'Paper-and-Pencil', 'Hot Potato', 'Random Production', 'Market', 'Area-Impulse', 'Events', 'Die Icon Resolution', 'Bias', 'Predictive Bid', 'Layering', 'Measurement Movement', 'Action Timer', 'Impulse Movement', 'Zone of Control', 'Auction: Sealed Bid', 'Hexagon Grid', 'Selection Order Bid', 'Cube Tower', 'Secret Unit Deployment', 'Interrupts', 'Ownership', 'Auction: Fixed Placement', 'Tug of War', 'Turn Order: Random', 'Semi-Cooperative Game', 'King of the Hill', 'Different Worker Types', 'Variable Set-up', 'Auction: Turn Order Until Pass', \"Prisoner's Dilemma\", 'Physical Removal', 'Sudden Death Ending', 'Catch the Leader', 'Modular Board', 'Contracts', 'Campaign / Battle Card Driven', 'Bingo', 'Automatic Resource Growth', 'Command Cards', 'Network and Route Building', 'Take That', 'Auction: Dutch', 'Auction: Once Around', 'Chaining', 'Targeted Clues', 'Team-Based Game', 'Action Retrieval', 'Map Deformation', 'Race', 'Grid Movement', 'Hidden Roles', 'Turn Order: Progressive', 'Advantage Token', 'Player Elimination', 'Turn Order: Auction', 'Tech Trees / Tech Tracks', 'Variable Phase Order', 'Score-and-Reset Game', 'Trick-taking', 'Critical Hits and Failures', 'Relative Movement', 'Moving Multiple Units', 'Variable Player Powers', 'Commodity Speculation', 'Pieces as Map', 'Auction/Bidding', 'Time Track', 'Storytelling', 'Area Majority / Influence', 'Kill Steal', 'Rondel', 'Betting and Bluffing', 'Cooperative Game', 'Auction: Dexterity', 'Set Collection', 'Closed Economy Auction', 'Hidden Victory Points', 'Action Drafting', 'Pick-up and Deliver', 'Turn Order: Claim Action', 'Traitor Game', 'Move Through Deck', 'Melding and Splaying', 'Turn Order: Pass Order', 'Ladder Climbing', 'Mancala', 'Follow', 'Crayon Rail System', 'Tile Placement', 'Legacy Game', 'Force Commitment', 'Stock Holding', 'Hand Management', 'Delayed Purchase', 'Stat Check Resolution', 'Lose a Turn', 'Connections', 'Memory', 'Programmed Movement', 'Drafting', 'Multiple-Lot Auction', 'Auction: Dutch Priority', 'Auction: English', 'Singing', 'Passed Action Token', 'Rock-Paper-Scissors', 'Induction', 'Single Loser Game', 'Deck Construction', 'Enclosure', 'Card Play Conflict Resolution', 'Static Capture', 'Hidden Movement', 'End Game Bonuses', 'Turn Order: Stat-Based', 'Role Playing', 'Action Queue', 'Matching', 'Income', 'Multiple Maps', 'Worker Placement with Dice Workers', 'Deduction', 'Speed Matching', 'Movement Points', 'Elapsed Real Time Ending', 'Point to Point Movement', 'Voting', 'Ratio / Combat Results Table', 'Bribery', 'Investment', 'Solo / Solitaire Game', 'Trading', 'Simulation', 'Chit-Pull System', 'Track Movement', 'Narrative Choice / Paragraph', 'Line of Sight', 'Card Drafting', 'Victory Points as a Resource', 'Real-Time', 'Stacking and Balancing', 'Flicking', 'Highest-Lowest Scoring', 'Loans', 'Area Movement', 'Action Points', 'Resource to Move', 'Scenario / Mission / Campaign Game', 'Finale Ending', 'Movement Template', 'Worker Placement', 'Roles with Asymmetric Information', 'Constrained Bidding', 'Increase Value of Unchosen Resources', 'Alliances', 'Simultaneous Action Selection', 'Map Addition', 'Pattern Building']\n"
     ]
    }
   ],
   "source": [
    "unique_Mechanics = []\n",
    "for i in range(len(bgg)):\n",
    "    unique_Mechanics = unique_Mechanics + bgg.iat[i, 12].split(', ')\n",
    "    unique_Mechanics = list(set(unique_Mechanics))\n",
    "print(unique_Mechanics)"
   ]
  },
  {
   "attachments": {},
   "cell_type": "markdown",
   "metadata": {},
   "source": [
    "This is too many Mechanics. Categorical encoding will lead to overfitting with this many columns, so plan is to find most frequent mechanics and place all others into a category titled 'Infrequent Mechanics'"
   ]
  },
  {
   "cell_type": "code",
   "execution_count": 1856,
   "metadata": {},
   "outputs": [],
   "source": [
    "#Code to get Corpus\n",
    "def Get_Corpus(bla):\n",
    "    corpus= []\n",
    "    for i in bla:\n",
    "        item = i.split(\",\")\n",
    "        corpus += item\n",
    "    return corpus\n",
    "#Code to delete extra space\n",
    "def space_eleminator(list):\n",
    "    vals=[]\n",
    "    for i in list:\n",
    "        m = i.lstrip()\n",
    "        vals.append(m)\n",
    "    return vals\n",
    "\n",
    "Mechanics_corpus = space_eleminator(Get_Corpus(bgg[\"Mechanics\"]))\n",
    "Mechs_dic = Counter(Mechanics_corpus)"
   ]
  },
  {
   "cell_type": "code",
   "execution_count": 1857,
   "metadata": {},
   "outputs": [
    {
     "data": {
      "image/png": "[encoded data removed]",
      "text/plain": [
       "<Figure size 640x480 with 1 Axes>"
      ]
     },
     "metadata": {},
     "output_type": "display_data"
    }
   ],
   "source": [
    "Item_M = list(Mechs_dic.keys())\n",
    "Freq_M = list(Mechs_dic.values())\n",
    "plt.scatter(Item_M, Freq_M)\n",
    "plt.show()"
   ]
  },
  {
   "cell_type": "code",
   "execution_count": 1858,
   "metadata": {},
   "outputs": [
    {
     "name": "stdout",
     "output_type": "stream",
     "text": [
      "['Cooperative Game', 'Grid Movement', 'Hand Management', 'Hexagon Grid', 'Modular Board', 'Simultaneous Action Selection', 'Variable Player Powers', 'Action Points', 'Set Collection', 'Card Drafting', 'Tile Placement', 'Area Majority / Influence', 'Dice Rolling', 'Auction/Bidding', 'Area Movement', 'Simulation', 'Roll / Spin and Move', 'Not Mentioned']\n"
     ]
    }
   ],
   "source": [
    "frequent_Mechanics = []\n",
    "infrequent_Mechanics = []\n",
    "for i in range(len(Freq_M)):\n",
    "    if (Freq_M[i] > 1000):\n",
    "        frequent_Mechanics = frequent_Mechanics + [Item_M[i]]\n",
    "    else:\n",
    "        infrequent_Mechanics = infrequent_Mechanics + [Item_M[i]]\n",
    "print(frequent_Mechanics)"
   ]
  },
  {
   "attachments": {},
   "cell_type": "markdown",
   "metadata": {},
   "source": [
    "These are the 18 most frequent mechanics. Let us strip all the others away."
   ]
  },
  {
   "cell_type": "code",
   "execution_count": 1859,
   "metadata": {},
   "outputs": [
    {
     "data": {
      "text/html": [
       "<div>\n",
       "<style scoped>\n",
       "    .dataframe tbody tr th:only-of-type {\n",
       "        vertical-align: middle;\n",
       "    }\n",
       "\n",
       "    .dataframe tbody tr th {\n",
       "        vertical-align: top;\n",
       "    }\n",
       "\n",
       "    .dataframe thead th {\n",
       "        text-align: right;\n",
       "    }\n",
       "</style>\n",
       "<table border=\"1\" class=\"dataframe\">\n",
       "  <thead>\n",
       "    <tr style=\"text-align: right;\">\n",
       "      <th></th>\n",
       "      <th>ID</th>\n",
       "      <th>Name</th>\n",
       "      <th>Year Published</th>\n",
       "      <th>Min Players</th>\n",
       "      <th>Max Players</th>\n",
       "      <th>Play Time</th>\n",
       "      <th>Min Age</th>\n",
       "      <th>Users Rated</th>\n",
       "      <th>Rating Average</th>\n",
       "      <th>BGG Rank</th>\n",
       "      <th>Complexity Average</th>\n",
       "      <th>Owned Users</th>\n",
       "      <th>Mechanics</th>\n",
       "      <th>Domains</th>\n",
       "    </tr>\n",
       "  </thead>\n",
       "  <tbody>\n",
       "    <tr>\n",
       "      <th>0</th>\n",
       "      <td>174430.0</td>\n",
       "      <td>Gloomhaven</td>\n",
       "      <td>2017.0</td>\n",
       "      <td>1</td>\n",
       "      <td>4</td>\n",
       "      <td>120</td>\n",
       "      <td>14</td>\n",
       "      <td>42055</td>\n",
       "      <td>879</td>\n",
       "      <td>1</td>\n",
       "      <td>386</td>\n",
       "      <td>68323.0</td>\n",
       "      <td>Hexagon Grid, Hand Management, Infrequent Mech...</td>\n",
       "      <td>Strategy Thematic</td>\n",
       "    </tr>\n",
       "    <tr>\n",
       "      <th>1</th>\n",
       "      <td>161936.0</td>\n",
       "      <td>Pandemic Legacy: Season 1</td>\n",
       "      <td>2015.0</td>\n",
       "      <td>2</td>\n",
       "      <td>4</td>\n",
       "      <td>60</td>\n",
       "      <td>13</td>\n",
       "      <td>41643</td>\n",
       "      <td>861</td>\n",
       "      <td>2</td>\n",
       "      <td>284</td>\n",
       "      <td>65294.0</td>\n",
       "      <td>Hand Management, Infrequent Mechanics, Coopera...</td>\n",
       "      <td>Strategy Thematic</td>\n",
       "    </tr>\n",
       "    <tr>\n",
       "      <th>2</th>\n",
       "      <td>224517.0</td>\n",
       "      <td>Brass: Birmingham</td>\n",
       "      <td>2018.0</td>\n",
       "      <td>2</td>\n",
       "      <td>4</td>\n",
       "      <td>120</td>\n",
       "      <td>14</td>\n",
       "      <td>19217</td>\n",
       "      <td>866</td>\n",
       "      <td>3</td>\n",
       "      <td>391</td>\n",
       "      <td>28785.0</td>\n",
       "      <td>Hand Management, Infrequent Mechanics</td>\n",
       "      <td>Strategy</td>\n",
       "    </tr>\n",
       "    <tr>\n",
       "      <th>3</th>\n",
       "      <td>167791.0</td>\n",
       "      <td>Terraforming Mars</td>\n",
       "      <td>2016.0</td>\n",
       "      <td>1</td>\n",
       "      <td>5</td>\n",
       "      <td>120</td>\n",
       "      <td>12</td>\n",
       "      <td>64864</td>\n",
       "      <td>843</td>\n",
       "      <td>4</td>\n",
       "      <td>324</td>\n",
       "      <td>87099.0</td>\n",
       "      <td>Hexagon Grid, Hand Management, Infrequent Mech...</td>\n",
       "      <td>Strategy</td>\n",
       "    </tr>\n",
       "    <tr>\n",
       "      <th>4</th>\n",
       "      <td>233078.0</td>\n",
       "      <td>Twilight Imperium: Fourth Edition</td>\n",
       "      <td>2017.0</td>\n",
       "      <td>3</td>\n",
       "      <td>6</td>\n",
       "      <td>480</td>\n",
       "      <td>14</td>\n",
       "      <td>13468</td>\n",
       "      <td>870</td>\n",
       "      <td>5</td>\n",
       "      <td>422</td>\n",
       "      <td>16831.0</td>\n",
       "      <td>Hexagon Grid, Dice Rolling, Infrequent Mechani...</td>\n",
       "      <td>Strategy Thematic</td>\n",
       "    </tr>\n",
       "  </tbody>\n",
       "</table>\n",
       "</div>"
      ],
      "text/plain": [
       "         ID                               Name  Year Published  Min Players  \\\n",
       "0  174430.0                         Gloomhaven          2017.0            1   \n",
       "1  161936.0          Pandemic Legacy: Season 1          2015.0            2   \n",
       "2  224517.0                  Brass: Birmingham          2018.0            2   \n",
       "3  167791.0                  Terraforming Mars          2016.0            1   \n",
       "4  233078.0  Twilight Imperium: Fourth Edition          2017.0            3   \n",
       "\n",
       "   Max Players  Play Time  Min Age  Users Rated  Rating Average  BGG Rank  \\\n",
       "0            4        120       14        42055             879         1   \n",
       "1            4         60       13        41643             861         2   \n",
       "2            4        120       14        19217             866         3   \n",
       "3            5        120       12        64864             843         4   \n",
       "4            6        480       14        13468             870         5   \n",
       "\n",
       "   Complexity Average  Owned Users  \\\n",
       "0                 386      68323.0   \n",
       "1                 284      65294.0   \n",
       "2                 391      28785.0   \n",
       "3                 324      87099.0   \n",
       "4                 422      16831.0   \n",
       "\n",
       "                                           Mechanics            Domains  \n",
       "0  Hexagon Grid, Hand Management, Infrequent Mech...  Strategy Thematic  \n",
       "1  Hand Management, Infrequent Mechanics, Coopera...  Strategy Thematic  \n",
       "2              Hand Management, Infrequent Mechanics           Strategy  \n",
       "3  Hexagon Grid, Hand Management, Infrequent Mech...           Strategy  \n",
       "4  Hexagon Grid, Dice Rolling, Infrequent Mechani...  Strategy Thematic  "
      ]
     },
     "execution_count": 1859,
     "metadata": {},
     "output_type": "execute_result"
    }
   ],
   "source": [
    "for i in range(len(bgg)):\n",
    "    l = bgg.iat[i, 12].split(', ')\n",
    "    for j in range(len(l)):\n",
    "        if l[j] in infrequent_Mechanics:\n",
    "            l[j] = 'Infrequent Mechanics'\n",
    "    l = list(set(l))\n",
    "    bgg.iat[i, 12] = ', '.join(l)\n",
    "bgg.head()"
   ]
  },
  {
   "attachments": {},
   "cell_type": "markdown",
   "metadata": {},
   "source": [
    "Let us drop the columns we do not need."
   ]
  },
  {
   "cell_type": "code",
   "execution_count": 1860,
   "metadata": {},
   "outputs": [
    {
     "data": {
      "text/html": [
       "<div>\n",
       "<style scoped>\n",
       "    .dataframe tbody tr th:only-of-type {\n",
       "        vertical-align: middle;\n",
       "    }\n",
       "\n",
       "    .dataframe tbody tr th {\n",
       "        vertical-align: top;\n",
       "    }\n",
       "\n",
       "    .dataframe thead th {\n",
       "        text-align: right;\n",
       "    }\n",
       "</style>\n",
       "<table border=\"1\" class=\"dataframe\">\n",
       "  <thead>\n",
       "    <tr style=\"text-align: right;\">\n",
       "      <th></th>\n",
       "      <th>Name</th>\n",
       "      <th>Year Published</th>\n",
       "      <th>Min Players</th>\n",
       "      <th>Max Players</th>\n",
       "      <th>Play Time</th>\n",
       "      <th>Min Age</th>\n",
       "      <th>Users Rated</th>\n",
       "      <th>Rating Average</th>\n",
       "      <th>BGG Rank</th>\n",
       "      <th>Complexity Average</th>\n",
       "      <th>Owned Users</th>\n",
       "      <th>Mechanics</th>\n",
       "      <th>Domains</th>\n",
       "    </tr>\n",
       "  </thead>\n",
       "  <tbody>\n",
       "    <tr>\n",
       "      <th>0</th>\n",
       "      <td>Gloomhaven</td>\n",
       "      <td>2017.0</td>\n",
       "      <td>1</td>\n",
       "      <td>4</td>\n",
       "      <td>120</td>\n",
       "      <td>14</td>\n",
       "      <td>42055</td>\n",
       "      <td>879</td>\n",
       "      <td>1</td>\n",
       "      <td>386</td>\n",
       "      <td>68323.0</td>\n",
       "      <td>Hexagon Grid, Hand Management, Infrequent Mech...</td>\n",
       "      <td>Strategy Thematic</td>\n",
       "    </tr>\n",
       "    <tr>\n",
       "      <th>1</th>\n",
       "      <td>Pandemic Legacy: Season 1</td>\n",
       "      <td>2015.0</td>\n",
       "      <td>2</td>\n",
       "      <td>4</td>\n",
       "      <td>60</td>\n",
       "      <td>13</td>\n",
       "      <td>41643</td>\n",
       "      <td>861</td>\n",
       "      <td>2</td>\n",
       "      <td>284</td>\n",
       "      <td>65294.0</td>\n",
       "      <td>Hand Management, Infrequent Mechanics, Coopera...</td>\n",
       "      <td>Strategy Thematic</td>\n",
       "    </tr>\n",
       "    <tr>\n",
       "      <th>2</th>\n",
       "      <td>Brass: Birmingham</td>\n",
       "      <td>2018.0</td>\n",
       "      <td>2</td>\n",
       "      <td>4</td>\n",
       "      <td>120</td>\n",
       "      <td>14</td>\n",
       "      <td>19217</td>\n",
       "      <td>866</td>\n",
       "      <td>3</td>\n",
       "      <td>391</td>\n",
       "      <td>28785.0</td>\n",
       "      <td>Hand Management, Infrequent Mechanics</td>\n",
       "      <td>Strategy</td>\n",
       "    </tr>\n",
       "    <tr>\n",
       "      <th>3</th>\n",
       "      <td>Terraforming Mars</td>\n",
       "      <td>2016.0</td>\n",
       "      <td>1</td>\n",
       "      <td>5</td>\n",
       "      <td>120</td>\n",
       "      <td>12</td>\n",
       "      <td>64864</td>\n",
       "      <td>843</td>\n",
       "      <td>4</td>\n",
       "      <td>324</td>\n",
       "      <td>87099.0</td>\n",
       "      <td>Hexagon Grid, Hand Management, Infrequent Mech...</td>\n",
       "      <td>Strategy</td>\n",
       "    </tr>\n",
       "    <tr>\n",
       "      <th>4</th>\n",
       "      <td>Twilight Imperium: Fourth Edition</td>\n",
       "      <td>2017.0</td>\n",
       "      <td>3</td>\n",
       "      <td>6</td>\n",
       "      <td>480</td>\n",
       "      <td>14</td>\n",
       "      <td>13468</td>\n",
       "      <td>870</td>\n",
       "      <td>5</td>\n",
       "      <td>422</td>\n",
       "      <td>16831.0</td>\n",
       "      <td>Hexagon Grid, Dice Rolling, Infrequent Mechani...</td>\n",
       "      <td>Strategy Thematic</td>\n",
       "    </tr>\n",
       "  </tbody>\n",
       "</table>\n",
       "</div>"
      ],
      "text/plain": [
       "                                Name  Year Published  Min Players  \\\n",
       "0                         Gloomhaven          2017.0            1   \n",
       "1          Pandemic Legacy: Season 1          2015.0            2   \n",
       "2                  Brass: Birmingham          2018.0            2   \n",
       "3                  Terraforming Mars          2016.0            1   \n",
       "4  Twilight Imperium: Fourth Edition          2017.0            3   \n",
       "\n",
       "   Max Players  Play Time  Min Age  Users Rated  Rating Average  BGG Rank  \\\n",
       "0            4        120       14        42055             879         1   \n",
       "1            4         60       13        41643             861         2   \n",
       "2            4        120       14        19217             866         3   \n",
       "3            5        120       12        64864             843         4   \n",
       "4            6        480       14        13468             870         5   \n",
       "\n",
       "   Complexity Average  Owned Users  \\\n",
       "0                 386      68323.0   \n",
       "1                 284      65294.0   \n",
       "2                 391      28785.0   \n",
       "3                 324      87099.0   \n",
       "4                 422      16831.0   \n",
       "\n",
       "                                           Mechanics            Domains  \n",
       "0  Hexagon Grid, Hand Management, Infrequent Mech...  Strategy Thematic  \n",
       "1  Hand Management, Infrequent Mechanics, Coopera...  Strategy Thematic  \n",
       "2              Hand Management, Infrequent Mechanics           Strategy  \n",
       "3  Hexagon Grid, Hand Management, Infrequent Mech...           Strategy  \n",
       "4  Hexagon Grid, Dice Rolling, Infrequent Mechani...  Strategy Thematic  "
      ]
     },
     "execution_count": 1860,
     "metadata": {},
     "output_type": "execute_result"
    }
   ],
   "source": [
    "bgg = bgg.drop(columns = ['ID'], axis=1)\n",
    "bgg = bgg.reset_index(drop=True)\n",
    "bgg.head()"
   ]
  },
  {
   "attachments": {},
   "cell_type": "markdown",
   "metadata": {},
   "source": [
    "Let us check for correlations between traits in the data"
   ]
  },
  {
   "cell_type": "code",
   "execution_count": 1861,
   "metadata": {},
   "outputs": [
    {
     "data": {
      "text/plain": [
       "<AxesSubplot:>"
      ]
     },
     "execution_count": 1861,
     "metadata": {},
     "output_type": "execute_result"
    },
    {
     "data": {
      "image/png": "[encoded data removed]",
      "text/plain": [
       "<Figure size 1000x1000 with 2 Axes>"
      ]
     },
     "metadata": {},
     "output_type": "display_data"
    }
   ],
   "source": [
    "corr_df = bgg.drop(columns = ['Mechanics', 'Domains'], axis=1)\n",
    "corrmat= corr_df.corr()\n",
    "plt.figure(figsize=(10,10))  \n",
    "sns.heatmap(corrmat,annot=True)"
   ]
  },
  {
   "attachments": {},
   "cell_type": "markdown",
   "metadata": {},
   "source": [
    "It looks like Users Rated and Owned Users are highly correlated. Let's plot them to see."
   ]
  },
  {
   "cell_type": "code",
   "execution_count": 1862,
   "metadata": {},
   "outputs": [
    {
     "data": {
      "image/png": "[encoded data removed]",
      "text/plain": [
       "<Figure size 640x480 with 1 Axes>"
      ]
     },
     "metadata": {},
     "output_type": "display_data"
    }
   ],
   "source": [
    "x = bgg['Users Rated'].values\n",
    "y = bgg['Owned Users'].values\n",
    "plt.scatter(x, y)\n",
    "plt.title('Users Rated vs. Owned Users Correlation')\n",
    "plt.xlabel('Users Rated')\n",
    "plt.ylabel('Owned Users')\n",
    "plt.show()"
   ]
  },
  {
   "attachments": {},
   "cell_type": "markdown",
   "metadata": {},
   "source": [
    "To deal with this, I will simply remove one of these variables, so as to not inflate the weight of its influence."
   ]
  },
  {
   "cell_type": "code",
   "execution_count": 1863,
   "metadata": {},
   "outputs": [],
   "source": [
    "bgg = bgg.drop(columns=['Owned Users'], axis=1)"
   ]
  },
  {
   "attachments": {},
   "cell_type": "markdown",
   "metadata": {},
   "source": [
    "Let us now check for outliers and normalize the features."
   ]
  },
  {
   "cell_type": "code",
   "execution_count": 1864,
   "metadata": {},
   "outputs": [
    {
     "data": {
      "image/png": "[encoded data removed]",
      "text/plain": [
       "<Figure size 640x480 with 1 Axes>"
      ]
     },
     "metadata": {},
     "output_type": "display_data"
    }
   ],
   "source": [
    "x = bgg['BGG Rank'].values\n",
    "y = sorted(bgg['Year Published'].values)\n",
    "plt.scatter(x, y)\n",
    "plt.title('Year Published')\n",
    "plt.xlabel('Game Number')\n",
    "plt.ylabel('Year Published')\n",
    "plt.show()"
   ]
  },
  {
   "attachments": {},
   "cell_type": "markdown",
   "metadata": {},
   "source": [
    "Let us perform a percentile linearization to this column to help this issue."
   ]
  },
  {
   "cell_type": "code",
   "execution_count": 1865,
   "metadata": {},
   "outputs": [],
   "source": [
    "size = len(bgg['Year Published'])-1\n",
    "bgg['Year Published'] = bgg['Year Published'].rank(method='min').apply(lambda x: (x-1)/size)"
   ]
  },
  {
   "cell_type": "code",
   "execution_count": 1870,
   "metadata": {},
   "outputs": [
    {
     "data": {
      "image/png": "[encoded data removed]",
      "text/plain": [
       "<Figure size 640x480 with 1 Axes>"
      ]
     },
     "metadata": {},
     "output_type": "display_data"
    }
   ],
   "source": [
    "x = bgg['BGG Rank'].values\n",
    "y = sorted(bgg['Max Players'].values)\n",
    "plt.scatter(x, y)\n",
    "plt.title('Max Players')\n",
    "plt.xlabel('Game Number')\n",
    "plt.ylabel('Max Players')\n",
    "plt.show()"
   ]
  },
  {
   "attachments": {},
   "cell_type": "markdown",
   "metadata": {},
   "source": [
    "Let us perform a truncation to the higher values, to reduce the spread."
   ]
  },
  {
   "cell_type": "code",
   "execution_count": 1869,
   "metadata": {},
   "outputs": [],
   "source": [
    "bgg['Max Players'] = bgg['Max Players'].apply(lambda x: min(x,100))"
   ]
  },
  {
   "cell_type": "code",
   "execution_count": 1806,
   "metadata": {},
   "outputs": [],
   "source": [
    "def normalize_features(data):\n",
    "    scaler = StandardScaler()\n",
    "    scaler.fit(data)\n",
    "    data_norm = scaler.transform(data)\n",
    "    return data_norm\n",
    "\n",
    "def normalize(data):\n",
    "    '''\n",
    "    This function will normalize the input data to be between 0 and 1\n",
    "    \n",
    "    params:\n",
    "        data (List) : The list of values you want to normalize\n",
    "    \n",
    "    returns:\n",
    "        The input data normalized between 0 and 1\n",
    "    '''\n",
    "    min_val = min(data)\n",
    "    data = [x - min_val for x in data]\n",
    "    max_val = max(data)\n",
    "    return [x/max_val for x in data]\n",
    "\n",
    "def ohe(df, enc_col, delim):\n",
    "    '''\n",
    "    This function will one hot encode the specified column and add it back\n",
    "    onto the input dataframe\n",
    "    \n",
    "    params:\n",
    "        df (DataFrame) : The dataframe you wish for the results to be appended to\n",
    "        enc_col (String) : The column you want to OHE\n",
    "        delim (String) : The delimiter separating traits\n",
    "    \n",
    "    returns:\n",
    "        The OHE columns added onto the input dataframe\n",
    "    '''\n",
    "    \n",
    "    ohe_df = df[enc_col].str.get_dummies(delim)\n",
    "    ohe_df.reset_index(drop = True, inplace = True)\n",
    "    return pd.concat([df, ohe_df], axis = 1).drop(columns=[enc_col], axis=1)\n",
    "\n",
    "def cosine_sim(v1, v2, weight = 1):\n",
    "    '''\n",
    "    This function will calculate the cosine similarity between two vectors, with a weight\n",
    "    '''\n",
    "    return weight * dot(v1,v2)/(norm(v1)*norm(v2))"
   ]
  },
  {
   "cell_type": "code",
   "execution_count": 1807,
   "metadata": {},
   "outputs": [],
   "source": [
    "# one-hot-encode Domains and Mechanics\n",
    "bgg = ohe(bgg, 'Mechanics', ', ')\n",
    "bgg = ohe(bgg, 'Domains', ' ')"
   ]
  },
  {
   "cell_type": "code",
   "execution_count": 1808,
   "metadata": {},
   "outputs": [
    {
     "data": {
      "text/html": [
       "<div>\n",
       "<style scoped>\n",
       "    .dataframe tbody tr th:only-of-type {\n",
       "        vertical-align: middle;\n",
       "    }\n",
       "\n",
       "    .dataframe tbody tr th {\n",
       "        vertical-align: top;\n",
       "    }\n",
       "\n",
       "    .dataframe thead th {\n",
       "        text-align: right;\n",
       "    }\n",
       "</style>\n",
       "<table border=\"1\" class=\"dataframe\">\n",
       "  <thead>\n",
       "    <tr style=\"text-align: right;\">\n",
       "      <th></th>\n",
       "      <th>Name</th>\n",
       "      <th>Year Published</th>\n",
       "      <th>Min Players</th>\n",
       "      <th>Max Players</th>\n",
       "      <th>Play Time</th>\n",
       "      <th>Min Age</th>\n",
       "      <th>Users Rated</th>\n",
       "      <th>Rating Average</th>\n",
       "      <th>BGG Rank</th>\n",
       "      <th>Complexity Average</th>\n",
       "      <th>...</th>\n",
       "      <th>Variable Player Powers</th>\n",
       "      <th>Abstract</th>\n",
       "      <th>Basic</th>\n",
       "      <th>Children's</th>\n",
       "      <th>Customizable</th>\n",
       "      <th>Family</th>\n",
       "      <th>Party</th>\n",
       "      <th>Strategy</th>\n",
       "      <th>Thematic</th>\n",
       "      <th>War</th>\n",
       "    </tr>\n",
       "  </thead>\n",
       "  <tbody>\n",
       "    <tr>\n",
       "      <th>0</th>\n",
       "      <td>Gloomhaven</td>\n",
       "      <td>0.779221</td>\n",
       "      <td>0.1</td>\n",
       "      <td>0.004004</td>\n",
       "      <td>0.002</td>\n",
       "      <td>0.56</td>\n",
       "      <td>0.411268</td>\n",
       "      <td>0.917277</td>\n",
       "      <td>0.000000</td>\n",
       "      <td>0.782961</td>\n",
       "      <td>...</td>\n",
       "      <td>1</td>\n",
       "      <td>0</td>\n",
       "      <td>0</td>\n",
       "      <td>0</td>\n",
       "      <td>0</td>\n",
       "      <td>0</td>\n",
       "      <td>0</td>\n",
       "      <td>1</td>\n",
       "      <td>1</td>\n",
       "      <td>0</td>\n",
       "    </tr>\n",
       "    <tr>\n",
       "      <th>1</th>\n",
       "      <td>Pandemic Legacy: Season 1</td>\n",
       "      <td>0.661844</td>\n",
       "      <td>0.2</td>\n",
       "      <td>0.004004</td>\n",
       "      <td>0.001</td>\n",
       "      <td>0.52</td>\n",
       "      <td>0.407236</td>\n",
       "      <td>0.898429</td>\n",
       "      <td>0.000049</td>\n",
       "      <td>0.576065</td>\n",
       "      <td>...</td>\n",
       "      <td>1</td>\n",
       "      <td>0</td>\n",
       "      <td>0</td>\n",
       "      <td>0</td>\n",
       "      <td>0</td>\n",
       "      <td>0</td>\n",
       "      <td>0</td>\n",
       "      <td>1</td>\n",
       "      <td>1</td>\n",
       "      <td>0</td>\n",
       "    </tr>\n",
       "    <tr>\n",
       "      <th>2</th>\n",
       "      <td>Brass: Birmingham</td>\n",
       "      <td>0.841872</td>\n",
       "      <td>0.2</td>\n",
       "      <td>0.004004</td>\n",
       "      <td>0.002</td>\n",
       "      <td>0.56</td>\n",
       "      <td>0.187769</td>\n",
       "      <td>0.903665</td>\n",
       "      <td>0.000098</td>\n",
       "      <td>0.793103</td>\n",
       "      <td>...</td>\n",
       "      <td>0</td>\n",
       "      <td>0</td>\n",
       "      <td>0</td>\n",
       "      <td>0</td>\n",
       "      <td>0</td>\n",
       "      <td>0</td>\n",
       "      <td>0</td>\n",
       "      <td>1</td>\n",
       "      <td>0</td>\n",
       "      <td>0</td>\n",
       "    </tr>\n",
       "    <tr>\n",
       "      <th>3</th>\n",
       "      <td>Terraforming Mars</td>\n",
       "      <td>0.717506</td>\n",
       "      <td>0.1</td>\n",
       "      <td>0.005005</td>\n",
       "      <td>0.002</td>\n",
       "      <td>0.48</td>\n",
       "      <td>0.634483</td>\n",
       "      <td>0.879581</td>\n",
       "      <td>0.000147</td>\n",
       "      <td>0.657201</td>\n",
       "      <td>...</td>\n",
       "      <td>1</td>\n",
       "      <td>0</td>\n",
       "      <td>0</td>\n",
       "      <td>0</td>\n",
       "      <td>0</td>\n",
       "      <td>0</td>\n",
       "      <td>0</td>\n",
       "      <td>1</td>\n",
       "      <td>0</td>\n",
       "      <td>0</td>\n",
       "    </tr>\n",
       "    <tr>\n",
       "      <th>4</th>\n",
       "      <td>Twilight Imperium: Fourth Edition</td>\n",
       "      <td>0.779221</td>\n",
       "      <td>0.3</td>\n",
       "      <td>0.006006</td>\n",
       "      <td>0.008</td>\n",
       "      <td>0.56</td>\n",
       "      <td>0.131508</td>\n",
       "      <td>0.907853</td>\n",
       "      <td>0.000197</td>\n",
       "      <td>0.855984</td>\n",
       "      <td>...</td>\n",
       "      <td>1</td>\n",
       "      <td>0</td>\n",
       "      <td>0</td>\n",
       "      <td>0</td>\n",
       "      <td>0</td>\n",
       "      <td>0</td>\n",
       "      <td>0</td>\n",
       "      <td>1</td>\n",
       "      <td>1</td>\n",
       "      <td>0</td>\n",
       "    </tr>\n",
       "  </tbody>\n",
       "</table>\n",
       "<p>5 rows × 38 columns</p>\n",
       "</div>"
      ],
      "text/plain": [
       "                                Name  Year Published  Min Players  \\\n",
       "0                         Gloomhaven        0.779221          0.1   \n",
       "1          Pandemic Legacy: Season 1        0.661844          0.2   \n",
       "2                  Brass: Birmingham        0.841872          0.2   \n",
       "3                  Terraforming Mars        0.717506          0.1   \n",
       "4  Twilight Imperium: Fourth Edition        0.779221          0.3   \n",
       "\n",
       "   Max Players  Play Time  Min Age  Users Rated  Rating Average  BGG Rank  \\\n",
       "0     0.004004      0.002     0.56     0.411268        0.917277  0.000000   \n",
       "1     0.004004      0.001     0.52     0.407236        0.898429  0.000049   \n",
       "2     0.004004      0.002     0.56     0.187769        0.903665  0.000098   \n",
       "3     0.005005      0.002     0.48     0.634483        0.879581  0.000147   \n",
       "4     0.006006      0.008     0.56     0.131508        0.907853  0.000197   \n",
       "\n",
       "   Complexity Average  ...  Variable Player Powers  Abstract  Basic  \\\n",
       "0            0.782961  ...                       1         0      0   \n",
       "1            0.576065  ...                       1         0      0   \n",
       "2            0.793103  ...                       0         0      0   \n",
       "3            0.657201  ...                       1         0      0   \n",
       "4            0.855984  ...                       1         0      0   \n",
       "\n",
       "   Children's  Customizable  Family  Party  Strategy  Thematic  War  \n",
       "0           0             0       0      0         1         1    0  \n",
       "1           0             0       0      0         1         1    0  \n",
       "2           0             0       0      0         1         0    0  \n",
       "3           0             0       0      0         1         0    0  \n",
       "4           0             0       0      0         1         1    0  \n",
       "\n",
       "[5 rows x 38 columns]"
      ]
     },
     "execution_count": 1808,
     "metadata": {},
     "output_type": "execute_result"
    }
   ],
   "source": [
    "# normalize all continuous features\n",
    "bgg['Year Published'] = normalize(bgg['Year Published'].values)\n",
    "bgg['Min Players'] = normalize(bgg['Min Players'].values)\n",
    "bgg['Max Players'] = normalize(bgg['Max Players'].values)\n",
    "bgg['Play Time'] = normalize(bgg['Play Time'].values)\n",
    "bgg['Min Age'] = normalize(bgg['Min Age'].values)\n",
    "bgg['Users Rated'] = normalize(bgg['Users Rated'].values)\n",
    "bgg['Rating Average'] = normalize(bgg['Rating Average'].values)\n",
    "bgg['BGG Rank'] = normalize(bgg['BGG Rank'].values)\n",
    "bgg['Complexity Average'] = normalize(bgg['Complexity Average'].values)\n",
    "\n",
    "bgg.head()"
   ]
  },
  {
   "cell_type": "code",
   "execution_count": 1809,
   "metadata": {},
   "outputs": [
    {
     "data": {
      "image/png": "[encoded data removed]",
      "text/plain": [
       "<Figure size 640x480 with 1 Axes>"
      ]
     },
     "metadata": {},
     "output_type": "display_data"
    }
   ],
   "source": [
    "inertias = []\n",
    "\n",
    "for i in range(1,11):\n",
    "    kmeans = KMeans(n_clusters=i)\n",
    "    kmeans.fit(bgg.drop(columns='Name'))\n",
    "    inertias.append(kmeans.inertia_)\n",
    "\n",
    "plt.plot(range(1,11), inertias, marker='o')\n",
    "plt.title('Elbow method')\n",
    "plt.xlabel('Number of clusters')\n",
    "plt.ylabel('Inertia')\n",
    "plt.show()"
   ]
  },
  {
   "cell_type": "code",
   "execution_count": 1674,
   "metadata": {},
   "outputs": [
    {
     "data": {
      "text/plain": [
       "KMeans(n_clusters=9)"
      ]
     },
     "execution_count": 1674,
     "metadata": {},
     "output_type": "execute_result"
    }
   ],
   "source": [
    "kmeans = KMeans(n_clusters=9)\n",
    "kmeans.fit(bgg.drop('Name', axis=1))"
   ]
  },
  {
   "cell_type": "code",
   "execution_count": 1675,
   "metadata": {},
   "outputs": [],
   "source": [
    "bgg['Cluster Number'] = kmeans.labels_"
   ]
  },
  {
   "cell_type": "code",
   "execution_count": 1676,
   "metadata": {},
   "outputs": [
    {
     "data": {
      "image/png": "[encoded data removed]",
      "text/plain": [
       "<Figure size 640x480 with 1 Axes>"
      ]
     },
     "metadata": {},
     "output_type": "display_data"
    }
   ],
   "source": [
    "plt.hist(kmeans.labels_, bins=9)\n",
    "plt.title('Number of Games in Each Cluster')\n",
    "plt.xlabel('Cluster Number')\n",
    "plt.ylabel('Number of Games')\n",
    "plt.show()"
   ]
  },
  {
   "cell_type": "code",
   "execution_count": 1677,
   "metadata": {},
   "outputs": [
    {
     "name": "stderr",
     "output_type": "stream",
     "text": [
      "C:\\Users\\possu\\AppData\\Local\\Temp\\ipykernel_720\\3199202566.py:1: FutureWarning: Dropping of nuisance columns in DataFrame reductions (with 'numeric_only=None') is deprecated; in a future version this will raise TypeError.  Select only valid columns before calling the reduction.\n",
      "  bgg.loc[bgg['Cluster Number'] == 0].mean(axis=0)\n"
     ]
    },
    {
     "data": {
      "text/plain": [
       "Year Published                   0.992331\n",
       "Min Players                      0.210204\n",
       "Max Players                      0.006643\n",
       "Play Time                        0.000706\n",
       "Min Age                          0.356825\n",
       "Users Rated                      0.001067\n",
       "Rating Average                   0.613660\n",
       "BGG Rank                         0.689357\n",
       "Complexity Average               0.207928\n",
       "Action Points                    0.025321\n",
       "Area Majority / Influence        0.043084\n",
       "Area Movement                    0.023054\n",
       "Auction/Bidding                  0.053288\n",
       "Card Drafting                    0.077475\n",
       "Cooperative Game                 0.065004\n",
       "Dice Rolling                     0.000000\n",
       "Grid Movement                    0.022676\n",
       "Hand Management                  0.000000\n",
       "Hexagon Grid                     0.006425\n",
       "Infrequent Mechanics             0.000000\n",
       "Modular Board                    0.044974\n",
       "Not Mentioned                    0.418745\n",
       "Roll / Spin and Move             0.126228\n",
       "Set Collection                   0.134165\n",
       "Simulation                       0.017763\n",
       "Simultaneous Action Selection    0.042706\n",
       "Tile Placement                   0.102797\n",
       "Variable Player Powers           0.044596\n",
       "Abstract                         0.000000\n",
       "Basic                            0.999244\n",
       "Children's                       0.000000\n",
       "Customizable                     0.000000\n",
       "Family                           0.000000\n",
       "Party                            0.000000\n",
       "Strategy                         0.000000\n",
       "Thematic                         0.000756\n",
       "War                              0.000000\n",
       "Cluster Number                   0.000000\n",
       "dtype: float64"
      ]
     },
     "execution_count": 1677,
     "metadata": {},
     "output_type": "execute_result"
    }
   ],
   "source": [
    "bgg.loc[bgg['Cluster Number'] == 0].mean(axis=0)"
   ]
  },
  {
   "attachments": {},
   "cell_type": "markdown",
   "metadata": {},
   "source": [
    "Recently released average rated basic games."
   ]
  },
  {
   "cell_type": "code",
   "execution_count": 1678,
   "metadata": {},
   "outputs": [
    {
     "name": "stderr",
     "output_type": "stream",
     "text": [
      "C:\\Users\\possu\\AppData\\Local\\Temp\\ipykernel_720\\1639429195.py:1: FutureWarning: Dropping of nuisance columns in DataFrame reductions (with 'numeric_only=None') is deprecated; in a future version this will raise TypeError.  Select only valid columns before calling the reduction.\n",
      "  bgg.loc[bgg['Cluster Number'] == 1].mean(axis=0)\n"
     ]
    },
    {
     "data": {
      "text/plain": [
       "Year Published                   0.995181\n",
       "Min Players                      0.177409\n",
       "Max Players                      0.003247\n",
       "Play Time                        0.005103\n",
       "Min Age                          0.406537\n",
       "Users Rated                      0.002285\n",
       "Rating Average                   0.713701\n",
       "BGG Rank                         0.468737\n",
       "Complexity Average               0.541008\n",
       "Action Points                    0.064124\n",
       "Area Majority / Influence        0.044393\n",
       "Area Movement                    0.134166\n",
       "Auction/Bidding                  0.002960\n",
       "Card Drafting                    0.012167\n",
       "Cooperative Game                 0.007563\n",
       "Dice Rolling                     0.680039\n",
       "Grid Movement                    0.178889\n",
       "Hand Management                  0.024334\n",
       "Hexagon Grid                     0.665242\n",
       "Infrequent Mechanics             0.523512\n",
       "Modular Board                    0.043736\n",
       "Not Mentioned                    0.002302\n",
       "Roll / Spin and Move             0.004933\n",
       "Set Collection                   0.004933\n",
       "Simulation                       0.502795\n",
       "Simultaneous Action Selection    0.043078\n",
       "Tile Placement                   0.001644\n",
       "Variable Player Powers           0.054916\n",
       "Abstract                         0.001973\n",
       "Basic                            0.000000\n",
       "Children's                       0.000987\n",
       "Customizable                     0.004275\n",
       "Family                           0.000987\n",
       "Party                            0.000329\n",
       "Strategy                         0.012496\n",
       "Thematic                         0.016442\n",
       "War                              0.998685\n",
       "Cluster Number                   1.000000\n",
       "dtype: float64"
      ]
     },
     "execution_count": 1678,
     "metadata": {},
     "output_type": "execute_result"
    }
   ],
   "source": [
    "bgg.loc[bgg['Cluster Number'] == 1].mean(axis=0)"
   ]
  },
  {
   "attachments": {},
   "cell_type": "markdown",
   "metadata": {},
   "source": [
    "Recently released well-rated war games."
   ]
  },
  {
   "cell_type": "code",
   "execution_count": 1679,
   "metadata": {},
   "outputs": [
    {
     "name": "stderr",
     "output_type": "stream",
     "text": [
      "C:\\Users\\possu\\AppData\\Local\\Temp\\ipykernel_720\\4051280869.py:1: FutureWarning: Dropping of nuisance columns in DataFrame reductions (with 'numeric_only=None') is deprecated; in a future version this will raise TypeError.  Select only valid columns before calling the reduction.\n",
      "  bgg.loc[bgg['Cluster Number'] == 2].mean(axis=0)\n"
     ]
    },
    {
     "data": {
      "text/plain": [
       "Year Published                   0.997572\n",
       "Min Players                      0.176161\n",
       "Max Players                      0.005106\n",
       "Play Time                        0.001654\n",
       "Min Age                          0.466378\n",
       "Users Rated                      0.025576\n",
       "Rating Average                   0.721291\n",
       "BGG Rank                         0.220442\n",
       "Complexity Average               0.490148\n",
       "Action Points                    0.173375\n",
       "Area Majority / Influence        0.065015\n",
       "Area Movement                    0.125903\n",
       "Auction/Bidding                  0.015480\n",
       "Card Drafting                    0.090815\n",
       "Cooperative Game                 0.327141\n",
       "Dice Rolling                     0.654283\n",
       "Grid Movement                    0.170279\n",
       "Hand Management                  0.262126\n",
       "Hexagon Grid                     0.034056\n",
       "Infrequent Mechanics             0.804954\n",
       "Modular Board                    0.282766\n",
       "Not Mentioned                    0.000000\n",
       "Roll / Spin and Move             0.049536\n",
       "Set Collection                   0.053664\n",
       "Simulation                       0.059856\n",
       "Simultaneous Action Selection    0.062951\n",
       "Tile Placement                   0.056760\n",
       "Variable Player Powers           0.559340\n",
       "Abstract                         0.001032\n",
       "Basic                            0.000000\n",
       "Children's                       0.000000\n",
       "Customizable                     0.052632\n",
       "Family                           0.043344\n",
       "Party                            0.044376\n",
       "Strategy                         0.121775\n",
       "Thematic                         0.919505\n",
       "War                              0.117647\n",
       "Cluster Number                   2.000000\n",
       "dtype: float64"
      ]
     },
     "execution_count": 1679,
     "metadata": {},
     "output_type": "execute_result"
    }
   ],
   "source": [
    "bgg.loc[bgg['Cluster Number'] == 2].mean(axis=0)"
   ]
  },
  {
   "attachments": {},
   "cell_type": "markdown",
   "metadata": {},
   "source": [
    "Recently released well received but low-rank thematic games."
   ]
  },
  {
   "cell_type": "code",
   "execution_count": 1680,
   "metadata": {},
   "outputs": [
    {
     "name": "stderr",
     "output_type": "stream",
     "text": [
      "C:\\Users\\possu\\AppData\\Local\\Temp\\ipykernel_720\\1614635711.py:1: FutureWarning: Dropping of nuisance columns in DataFrame reductions (with 'numeric_only=None') is deprecated; in a future version this will raise TypeError.  Select only valid columns before calling the reduction.\n",
      "  bgg.loc[bgg['Cluster Number'] == 3].mean(axis=0)\n"
     ]
    },
    {
     "data": {
      "text/plain": [
       "Year Published                   0.992849\n",
       "Min Players                      0.184919\n",
       "Max Players                      0.006465\n",
       "Play Time                        0.000965\n",
       "Min Age                          0.378077\n",
       "Users Rated                      0.001316\n",
       "Rating Average                   0.670717\n",
       "BGG Rank                         0.584823\n",
       "Complexity Average               0.261746\n",
       "Action Points                    0.094192\n",
       "Area Majority / Influence        0.073694\n",
       "Area Movement                    0.057589\n",
       "Auction/Bidding                  0.022938\n",
       "Card Drafting                    0.069790\n",
       "Cooperative Game                 0.126403\n",
       "Dice Rolling                     1.000000\n",
       "Grid Movement                    0.092240\n",
       "Hand Management                  0.143485\n",
       "Hexagon Grid                     0.022450\n",
       "Infrequent Mechanics             0.601269\n",
       "Modular Board                    0.129819\n",
       "Not Mentioned                    0.000000\n",
       "Roll / Spin and Move             0.093704\n",
       "Set Collection                   0.083943\n",
       "Simulation                       0.044412\n",
       "Simultaneous Action Selection    0.029771\n",
       "Tile Placement                   0.042460\n",
       "Variable Player Powers           0.241581\n",
       "Abstract                         0.000000\n",
       "Basic                            0.995120\n",
       "Children's                       0.000000\n",
       "Customizable                     0.004392\n",
       "Family                           0.000000\n",
       "Party                            0.000488\n",
       "Strategy                         0.000000\n",
       "Thematic                         0.000000\n",
       "War                              0.000000\n",
       "Cluster Number                   3.000000\n",
       "dtype: float64"
      ]
     },
     "execution_count": 1680,
     "metadata": {},
     "output_type": "execute_result"
    }
   ],
   "source": [
    "bgg.loc[bgg['Cluster Number'] == 3].mean(axis=0)"
   ]
  },
  {
   "attachments": {},
   "cell_type": "markdown",
   "metadata": {},
   "source": [
    "Recently released basic dice-rolling games."
   ]
  },
  {
   "cell_type": "code",
   "execution_count": 1681,
   "metadata": {},
   "outputs": [
    {
     "name": "stderr",
     "output_type": "stream",
     "text": [
      "C:\\Users\\possu\\AppData\\Local\\Temp\\ipykernel_720\\224225181.py:1: FutureWarning: Dropping of nuisance columns in DataFrame reductions (with 'numeric_only=None') is deprecated; in a future version this will raise TypeError.  Select only valid columns before calling the reduction.\n",
      "  bgg.loc[bgg['Cluster Number'] == 4].mean(axis=0)\n"
     ]
    },
    {
     "data": {
      "text/plain": [
       "Year Published                   0.992421\n",
       "Min Players                      0.223284\n",
       "Max Players                      0.007231\n",
       "Play Time                        0.000917\n",
       "Min Age                          0.384085\n",
       "Users Rated                      0.001315\n",
       "Rating Average                   0.652002\n",
       "BGG Rank                         0.601050\n",
       "Complexity Average               0.235439\n",
       "Action Points                    0.028890\n",
       "Area Majority / Influence        0.054920\n",
       "Area Movement                    0.028032\n",
       "Auction/Bidding                  0.083810\n",
       "Card Drafting                    0.076373\n",
       "Cooperative Game                 0.083810\n",
       "Dice Rolling                     0.000000\n",
       "Grid Movement                    0.030034\n",
       "Hand Management                  0.000000\n",
       "Hexagon Grid                     0.007151\n",
       "Infrequent Mechanics             1.000000\n",
       "Modular Board                    0.061499\n",
       "Not Mentioned                    0.000000\n",
       "Roll / Spin and Move             0.078375\n",
       "Set Collection                   0.151602\n",
       "Simulation                       0.020023\n",
       "Simultaneous Action Selection    0.051773\n",
       "Tile Placement                   0.085526\n",
       "Variable Player Powers           0.090389\n",
       "Abstract                         0.000000\n",
       "Basic                            1.000000\n",
       "Children's                       0.000000\n",
       "Customizable                     0.000000\n",
       "Family                           0.000000\n",
       "Party                            0.000000\n",
       "Strategy                         0.000000\n",
       "Thematic                         0.000000\n",
       "War                              0.000000\n",
       "Cluster Number                   4.000000\n",
       "dtype: float64"
      ]
     },
     "execution_count": 1681,
     "metadata": {},
     "output_type": "execute_result"
    }
   ],
   "source": [
    "bgg.loc[bgg['Cluster Number'] == 4].mean(axis=0)"
   ]
  },
  {
   "attachments": {},
   "cell_type": "markdown",
   "metadata": {},
   "source": [
    "Recently released basic non-dice rolling games."
   ]
  },
  {
   "cell_type": "code",
   "execution_count": 1682,
   "metadata": {},
   "outputs": [
    {
     "name": "stderr",
     "output_type": "stream",
     "text": [
      "C:\\Users\\possu\\AppData\\Local\\Temp\\ipykernel_720\\74084760.py:1: FutureWarning: Dropping of nuisance columns in DataFrame reductions (with 'numeric_only=None') is deprecated; in a future version this will raise TypeError.  Select only valid columns before calling the reduction.\n",
      "  bgg.loc[bgg['Cluster Number'] == 5].mean(axis=0)\n"
     ]
    },
    {
     "data": {
      "text/plain": [
       "Year Published                   0.984475\n",
       "Min Players                      0.212605\n",
       "Max Players                      0.006022\n",
       "Play Time                        0.000501\n",
       "Min Age                          0.296657\n",
       "Users Rated                      0.007072\n",
       "Rating Average                   0.617760\n",
       "BGG Rank                         0.599025\n",
       "Complexity Average               0.257877\n",
       "Action Points                    0.010271\n",
       "Area Majority / Influence        0.033613\n",
       "Area Movement                    0.024743\n",
       "Auction/Bidding                  0.014006\n",
       "Card Drafting                    0.018674\n",
       "Cooperative Game                 0.034547\n",
       "Dice Rolling                     0.107843\n",
       "Grid Movement                    0.082166\n",
       "Hand Management                  0.043417\n",
       "Hexagon Grid                     0.007003\n",
       "Infrequent Mechanics             0.525677\n",
       "Modular Board                    0.053221\n",
       "Not Mentioned                    0.169001\n",
       "Roll / Spin and Move             0.121849\n",
       "Set Collection                   0.078898\n",
       "Simulation                       0.002801\n",
       "Simultaneous Action Selection    0.031279\n",
       "Tile Placement                   0.134454\n",
       "Variable Player Powers           0.038282\n",
       "Abstract                         0.427171\n",
       "Basic                            0.000000\n",
       "Children's                       0.349673\n",
       "Customizable                     0.049020\n",
       "Family                           0.007470\n",
       "Party                            0.161064\n",
       "Strategy                         0.004202\n",
       "Thematic                         0.016340\n",
       "War                              0.022876\n",
       "Cluster Number                   5.000000\n",
       "dtype: float64"
      ]
     },
     "execution_count": 1682,
     "metadata": {},
     "output_type": "execute_result"
    }
   ],
   "source": [
    "bgg.loc[bgg['Cluster Number'] == 5].mean(axis=0)"
   ]
  },
  {
   "cell_type": "code",
   "execution_count": 1643,
   "metadata": {},
   "outputs": [
    {
     "data": {
      "text/html": [
       "<div>\n",
       "<style scoped>\n",
       "    .dataframe tbody tr th:only-of-type {\n",
       "        vertical-align: middle;\n",
       "    }\n",
       "\n",
       "    .dataframe tbody tr th {\n",
       "        vertical-align: top;\n",
       "    }\n",
       "\n",
       "    .dataframe thead th {\n",
       "        text-align: right;\n",
       "    }\n",
       "</style>\n",
       "<table border=\"1\" class=\"dataframe\">\n",
       "  <thead>\n",
       "    <tr style=\"text-align: right;\">\n",
       "      <th></th>\n",
       "      <th>Name</th>\n",
       "      <th>Cluster Number</th>\n",
       "    </tr>\n",
       "  </thead>\n",
       "  <tbody>\n",
       "    <tr>\n",
       "      <th>1</th>\n",
       "      <td>Pandemic Legacy: Season 1</td>\n",
       "      <td>6</td>\n",
       "    </tr>\n",
       "    <tr>\n",
       "      <th>2</th>\n",
       "      <td>Brass: Birmingham</td>\n",
       "      <td>6</td>\n",
       "    </tr>\n",
       "    <tr>\n",
       "      <th>3</th>\n",
       "      <td>Terraforming Mars</td>\n",
       "      <td>6</td>\n",
       "    </tr>\n",
       "    <tr>\n",
       "      <th>6</th>\n",
       "      <td>Through the Ages: A New Story of Civilization</td>\n",
       "      <td>6</td>\n",
       "    </tr>\n",
       "    <tr>\n",
       "      <th>7</th>\n",
       "      <td>Gaia Project</td>\n",
       "      <td>6</td>\n",
       "    </tr>\n",
       "    <tr>\n",
       "      <th>...</th>\n",
       "      <td>...</td>\n",
       "      <td>...</td>\n",
       "    </tr>\n",
       "    <tr>\n",
       "      <th>20015</th>\n",
       "      <td>The Prince: The Struggle of House Borgia</td>\n",
       "      <td>6</td>\n",
       "    </tr>\n",
       "    <tr>\n",
       "      <th>20166</th>\n",
       "      <td>Fallen City of Karez</td>\n",
       "      <td>6</td>\n",
       "    </tr>\n",
       "    <tr>\n",
       "      <th>20168</th>\n",
       "      <td>Tom Clancy's Politika</td>\n",
       "      <td>6</td>\n",
       "    </tr>\n",
       "    <tr>\n",
       "      <th>20227</th>\n",
       "      <td>Hengist</td>\n",
       "      <td>6</td>\n",
       "    </tr>\n",
       "    <tr>\n",
       "      <th>20246</th>\n",
       "      <td>Assassin</td>\n",
       "      <td>6</td>\n",
       "    </tr>\n",
       "  </tbody>\n",
       "</table>\n",
       "<p>1965 rows × 2 columns</p>\n",
       "</div>"
      ],
      "text/plain": [
       "                                                Name  Cluster Number\n",
       "1                          Pandemic Legacy: Season 1               6\n",
       "2                                  Brass: Birmingham               6\n",
       "3                                  Terraforming Mars               6\n",
       "6      Through the Ages: A New Story of Civilization               6\n",
       "7                                       Gaia Project               6\n",
       "...                                              ...             ...\n",
       "20015       The Prince: The Struggle of House Borgia               6\n",
       "20166                           Fallen City of Karez               6\n",
       "20168                          Tom Clancy's Politika               6\n",
       "20227                                        Hengist               6\n",
       "20246                                       Assassin               6\n",
       "\n",
       "[1965 rows x 2 columns]"
      ]
     },
     "execution_count": 1643,
     "metadata": {},
     "output_type": "execute_result"
    }
   ],
   "source": [
    "df.loc[df['Cluster Number'] == 6]"
   ]
  },
  {
   "cell_type": "code",
   "execution_count": 1644,
   "metadata": {},
   "outputs": [
    {
     "data": {
      "text/html": [
       "<div>\n",
       "<style scoped>\n",
       "    .dataframe tbody tr th:only-of-type {\n",
       "        vertical-align: middle;\n",
       "    }\n",
       "\n",
       "    .dataframe tbody tr th {\n",
       "        vertical-align: top;\n",
       "    }\n",
       "\n",
       "    .dataframe thead th {\n",
       "        text-align: right;\n",
       "    }\n",
       "</style>\n",
       "<table border=\"1\" class=\"dataframe\">\n",
       "  <thead>\n",
       "    <tr style=\"text-align: right;\">\n",
       "      <th></th>\n",
       "      <th>Name</th>\n",
       "      <th>Cluster Number</th>\n",
       "    </tr>\n",
       "  </thead>\n",
       "  <tbody>\n",
       "    <tr>\n",
       "      <th>92</th>\n",
       "      <td>Codenames</td>\n",
       "      <td>7</td>\n",
       "    </tr>\n",
       "    <tr>\n",
       "      <th>101</th>\n",
       "      <td>Decrypto</td>\n",
       "      <td>7</td>\n",
       "    </tr>\n",
       "    <tr>\n",
       "      <th>130</th>\n",
       "      <td>The Resistance: Avalon</td>\n",
       "      <td>7</td>\n",
       "    </tr>\n",
       "    <tr>\n",
       "      <th>158</th>\n",
       "      <td>Captain Sonar</td>\n",
       "      <td>7</td>\n",
       "    </tr>\n",
       "    <tr>\n",
       "      <th>162</th>\n",
       "      <td>Just One</td>\n",
       "      <td>7</td>\n",
       "    </tr>\n",
       "    <tr>\n",
       "      <th>...</th>\n",
       "      <td>...</td>\n",
       "      <td>...</td>\n",
       "    </tr>\n",
       "    <tr>\n",
       "      <th>20315</th>\n",
       "      <td>War</td>\n",
       "      <td>7</td>\n",
       "    </tr>\n",
       "    <tr>\n",
       "      <th>20316</th>\n",
       "      <td>Bingo</td>\n",
       "      <td>7</td>\n",
       "    </tr>\n",
       "    <tr>\n",
       "      <th>20317</th>\n",
       "      <td>Candy Land</td>\n",
       "      <td>7</td>\n",
       "    </tr>\n",
       "    <tr>\n",
       "      <th>20318</th>\n",
       "      <td>Chutes and Ladders</td>\n",
       "      <td>7</td>\n",
       "    </tr>\n",
       "    <tr>\n",
       "      <th>20319</th>\n",
       "      <td>Tic-Tac-Toe</td>\n",
       "      <td>7</td>\n",
       "    </tr>\n",
       "  </tbody>\n",
       "</table>\n",
       "<p>2162 rows × 2 columns</p>\n",
       "</div>"
      ],
      "text/plain": [
       "                         Name  Cluster Number\n",
       "92                  Codenames               7\n",
       "101                  Decrypto               7\n",
       "130    The Resistance: Avalon               7\n",
       "158             Captain Sonar               7\n",
       "162                  Just One               7\n",
       "...                       ...             ...\n",
       "20315                     War               7\n",
       "20316                   Bingo               7\n",
       "20317              Candy Land               7\n",
       "20318      Chutes and Ladders               7\n",
       "20319             Tic-Tac-Toe               7\n",
       "\n",
       "[2162 rows x 2 columns]"
      ]
     },
     "execution_count": 1644,
     "metadata": {},
     "output_type": "execute_result"
    }
   ],
   "source": [
    "df.loc[df['Cluster Number'] == 7]"
   ]
  },
  {
   "cell_type": "code",
   "execution_count": 1645,
   "metadata": {},
   "outputs": [
    {
     "data": {
      "text/html": [
       "<div>\n",
       "<style scoped>\n",
       "    .dataframe tbody tr th:only-of-type {\n",
       "        vertical-align: middle;\n",
       "    }\n",
       "\n",
       "    .dataframe tbody tr th {\n",
       "        vertical-align: top;\n",
       "    }\n",
       "\n",
       "    .dataframe thead th {\n",
       "        text-align: right;\n",
       "    }\n",
       "</style>\n",
       "<table border=\"1\" class=\"dataframe\">\n",
       "  <thead>\n",
       "    <tr style=\"text-align: right;\">\n",
       "      <th></th>\n",
       "      <th>Name</th>\n",
       "      <th>Cluster Number</th>\n",
       "    </tr>\n",
       "  </thead>\n",
       "  <tbody>\n",
       "    <tr>\n",
       "      <th>1047</th>\n",
       "      <td>Exit: The Game - The Sinister Mansion</td>\n",
       "      <td>8</td>\n",
       "    </tr>\n",
       "    <tr>\n",
       "      <th>1092</th>\n",
       "      <td>Exit: The Game - The Forgotten Island</td>\n",
       "      <td>8</td>\n",
       "    </tr>\n",
       "    <tr>\n",
       "      <th>1108</th>\n",
       "      <td>Exit: The Game - The Sunken Treasure</td>\n",
       "      <td>8</td>\n",
       "    </tr>\n",
       "    <tr>\n",
       "      <th>1260</th>\n",
       "      <td>Exit: The Game - The Mysterious Museum</td>\n",
       "      <td>8</td>\n",
       "    </tr>\n",
       "    <tr>\n",
       "      <th>1440</th>\n",
       "      <td>Exit: The Game - The Catacombs of Horror</td>\n",
       "      <td>8</td>\n",
       "    </tr>\n",
       "    <tr>\n",
       "      <th>...</th>\n",
       "      <td>...</td>\n",
       "      <td>...</td>\n",
       "    </tr>\n",
       "    <tr>\n",
       "      <th>20243</th>\n",
       "      <td>Urban Myth</td>\n",
       "      <td>8</td>\n",
       "    </tr>\n",
       "    <tr>\n",
       "      <th>20244</th>\n",
       "      <td>The Game of Life (40th Anniversary Edition)</td>\n",
       "      <td>8</td>\n",
       "    </tr>\n",
       "    <tr>\n",
       "      <th>20250</th>\n",
       "      <td>The Lord of the Rings: The Fellowship of the Ring</td>\n",
       "      <td>8</td>\n",
       "    </tr>\n",
       "    <tr>\n",
       "      <th>20258</th>\n",
       "      <td>Coaster Park</td>\n",
       "      <td>8</td>\n",
       "    </tr>\n",
       "    <tr>\n",
       "      <th>20263</th>\n",
       "      <td>Alien: USCSS Nostromo</td>\n",
       "      <td>8</td>\n",
       "    </tr>\n",
       "  </tbody>\n",
       "</table>\n",
       "<p>3225 rows × 2 columns</p>\n",
       "</div>"
      ],
      "text/plain": [
       "                                                    Name  Cluster Number\n",
       "1047               Exit: The Game - The Sinister Mansion               8\n",
       "1092               Exit: The Game - The Forgotten Island               8\n",
       "1108                Exit: The Game - The Sunken Treasure               8\n",
       "1260              Exit: The Game - The Mysterious Museum               8\n",
       "1440            Exit: The Game - The Catacombs of Horror               8\n",
       "...                                                  ...             ...\n",
       "20243                                         Urban Myth               8\n",
       "20244        The Game of Life (40th Anniversary Edition)               8\n",
       "20250  The Lord of the Rings: The Fellowship of the Ring               8\n",
       "20258                                       Coaster Park               8\n",
       "20263                              Alien: USCSS Nostromo               8\n",
       "\n",
       "[3225 rows x 2 columns]"
      ]
     },
     "execution_count": 1645,
     "metadata": {},
     "output_type": "execute_result"
    }
   ],
   "source": [
    "df.loc[df['Cluster Number'] == 8]"
   ]
  },
  {
   "cell_type": "code",
   "execution_count": null,
   "metadata": {},
   "outputs": [],
   "source": [
    "class CBRecommend():\n",
    "    def __init__(self, df):\n",
    "        self.df = df\n",
    "    \n",
    "    def recommend(self, game_names, n_rec):\n",
    "        \"\"\"\n",
    "        df (dataframe): The dataframe\n",
    "        game_names (List): Representing the game names\n",
    "        n_rec (int): amount of rec user wants\n",
    "        \"\"\"\n",
    "        \n",
    "        # calculate similarity of input game_name vectors w.r.t all other vectors\n",
    "        no_name = self.df.drop(columns='Name')\n",
    "        self.df['Similarity'] = np.zeros(len(self.df))\n",
    "        for i in range(len(game_names)):\n",
    "            game_id = int(bgg.loc[bgg['Name'] == game_names[i]].index.values)\n",
    "            inputVec = no_name.iloc[game_id]\n",
    "            no_name = no_name.drop(game_id)\n",
    "            self.df = self.df.drop(game_id)\n",
    "            self.df['Similarity'] = self.df['Similarity'] + no_name.apply(lambda x: cosine_sim(inputVec, x.values), axis=1)\n",
    "        self.df['Similarity'] = self.df['Similarity'] / len(game_names)\n",
    "\n",
    "        # returns top n user specified games\n",
    "        n_best = self.df.nlargest(columns='Similarity', n=n_rec)\n",
    "        return n_best[['Name', 'Similarity']]"
   ]
  },
  {
   "cell_type": "code",
   "execution_count": 1813,
   "metadata": {},
   "outputs": [
    {
     "name": "stdout",
     "output_type": "stream",
     "text": [
      "                              Name  Similarity\n",
      "10             Great Western Trail    0.725610\n",
      "2                Brass: Birmingham    0.720562\n",
      "22   Viticulture Essential Edition    0.720226\n",
      "18               Brass: Lancashire    0.717899\n",
      "36                       Maracaibo    0.717282\n",
      "190                    Viticulture    0.715063\n",
      "84              Dominion: Intrigue    0.714542\n",
      "42               Underwater Cities    0.714288\n",
      "333                     Innovation    0.712792\n",
      "314                         Gùgōng    0.711979\n"
     ]
    }
   ],
   "source": [
    "# ran on a sample as an example\n",
    "t = bgg.copy()\n",
    "cbr = CBRecommend(df = t)\n",
    "print(cbr.recommend(game_names = ['Arkham Horror: The Card Game', 'Spirit Island', 'Everdell', '7 Wonders Duel',\n",
    "                                  'Pandemic Legacy: Season 1', '7 Wonders', 'Pandemic Legacy: Season 0',\n",
    "                                  'Pandemic Legacy: Season 2', 'Root', 'Splendor', 'Stone Age'], n_rec = 10))"
   ]
  },
  {
   "cell_type": "code",
   "execution_count": null,
   "metadata": {},
   "outputs": [],
   "source": []
  }
 ],
 "metadata": {
  "kernelspec": {
   "display_name": "base",
   "language": "python",
   "name": "python3"
  },
  "language_info": {
   "codemirror_mode": {
    "name": "ipython",
    "version": 3
   },
   "file_extension": ".py",
   "mimetype": "text/x-python",
   "name": "python",
   "nbconvert_exporter": "python",
   "pygments_lexer": "ipython3",
   "version": "3.9.13"
  },
  "orig_nbformat": 4,
  "vscode": {
   "interpreter": {
    "hash": "64c9f9e2ddf86f7a864271ae4ca1664fec9169d8a2a866686620ae259bdb39e6"
   }
  }
 },
 "nbformat": 4,
 "nbformat_minor": 2
}
